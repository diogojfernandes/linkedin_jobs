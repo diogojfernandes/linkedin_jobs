{
 "metadata": {
  "language_info": {
   "codemirror_mode": {
    "name": "ipython",
    "version": 3
   },
   "file_extension": ".py",
   "mimetype": "text/x-python",
   "name": "python",
   "nbconvert_exporter": "python",
   "pygments_lexer": "ipython3",
   "version": "3.9.5"
  },
  "orig_nbformat": 4,
  "kernelspec": {
   "name": "python3",
   "display_name": "Python 3.9.5 64-bit ('diogo_portfolio': conda)"
  },
  "interpreter": {
   "hash": "8543ac8e9e749a6ad1943febdb81f769ec6c1cf96ee0f01c6bf8efcf64c7978b"
  }
 },
 "nbformat": 4,
 "nbformat_minor": 2,
 "cells": [
  {
   "cell_type": "code",
   "execution_count": 1,
   "metadata": {},
   "outputs": [],
   "source": [
    "import pandas as pd\n",
    "import numpy as np\n",
    "import matplotlib.pyplot as plt \n",
    "import seaborn as sns\n",
    "%matplotlib inline"
   ]
  },
  {
   "cell_type": "code",
   "execution_count": 2,
   "metadata": {},
   "outputs": [
    {
     "output_type": "execute_result",
     "data": {
      "text/plain": [
       "                             Position                Location  \\\n",
       "0           Software Developer  - OOP  Ovar, Aveiro, Portugal   \n",
       "1  Process Automation Developer (M/F)  Porto, Porto, Portugal   \n",
       "2                   Backend Developer        Lisbon, Portugal   \n",
       "3         Junior Full Stack Developer         Porto, Portugal   \n",
       "4            .NET Fullstack developer        Lisbon, Portugal   \n",
       "\n",
       "       Company Name                           Num Applicants  \\\n",
       "0             Bosch   \\n            8 applicants\\n             \n",
       "1            adidas                                     None   \n",
       "2               CGI  \\n            12 applicants\\n             \n",
       "3           Tlantic  \\n            16 applicants\\n             \n",
       "4  agap2IT Portugal  \\n            24 applicants\\n             \n",
       "\n",
       "                              Sector      Num Employees  \\\n",
       "0  Information Technology & Services  10,001+ employees   \n",
       "1                     Sporting Goods  10,001+ employees   \n",
       "2  Information Technology & Services  10,001+ employees   \n",
       "3                               None   51-200 employees   \n",
       "4                               None               None   \n",
       "\n",
       "                  Position Type  Remote  Easy Apply  \n",
       "0  Full-time · Mid-Senior level   False        True  \n",
       "1                     Full-time   False       False  \n",
       "2         Full-time · Associate   False        True  \n",
       "3                     Full-time   False        True  \n",
       "4                      Contract    True        True  "
      ],
      "text/html": "<div>\n<style scoped>\n    .dataframe tbody tr th:only-of-type {\n        vertical-align: middle;\n    }\n\n    .dataframe tbody tr th {\n        vertical-align: top;\n    }\n\n    .dataframe thead th {\n        text-align: right;\n    }\n</style>\n<table border=\"1\" class=\"dataframe\">\n  <thead>\n    <tr style=\"text-align: right;\">\n      <th></th>\n      <th>Position</th>\n      <th>Location</th>\n      <th>Company Name</th>\n      <th>Num Applicants</th>\n      <th>Sector</th>\n      <th>Num Employees</th>\n      <th>Position Type</th>\n      <th>Remote</th>\n      <th>Easy Apply</th>\n    </tr>\n  </thead>\n  <tbody>\n    <tr>\n      <th>0</th>\n      <td>Software Developer  - OOP</td>\n      <td>Ovar, Aveiro, Portugal</td>\n      <td>Bosch</td>\n      <td>\\n            8 applicants\\n</td>\n      <td>Information Technology &amp; Services</td>\n      <td>10,001+ employees</td>\n      <td>Full-time · Mid-Senior level</td>\n      <td>False</td>\n      <td>True</td>\n    </tr>\n    <tr>\n      <th>1</th>\n      <td>Process Automation Developer (M/F)</td>\n      <td>Porto, Porto, Portugal</td>\n      <td>adidas</td>\n      <td>None</td>\n      <td>Sporting Goods</td>\n      <td>10,001+ employees</td>\n      <td>Full-time</td>\n      <td>False</td>\n      <td>False</td>\n    </tr>\n    <tr>\n      <th>2</th>\n      <td>Backend Developer</td>\n      <td>Lisbon, Portugal</td>\n      <td>CGI</td>\n      <td>\\n            12 applicants\\n</td>\n      <td>Information Technology &amp; Services</td>\n      <td>10,001+ employees</td>\n      <td>Full-time · Associate</td>\n      <td>False</td>\n      <td>True</td>\n    </tr>\n    <tr>\n      <th>3</th>\n      <td>Junior Full Stack Developer</td>\n      <td>Porto, Portugal</td>\n      <td>Tlantic</td>\n      <td>\\n            16 applicants\\n</td>\n      <td>None</td>\n      <td>51-200 employees</td>\n      <td>Full-time</td>\n      <td>False</td>\n      <td>True</td>\n    </tr>\n    <tr>\n      <th>4</th>\n      <td>.NET Fullstack developer</td>\n      <td>Lisbon, Portugal</td>\n      <td>agap2IT Portugal</td>\n      <td>\\n            24 applicants\\n</td>\n      <td>None</td>\n      <td>None</td>\n      <td>Contract</td>\n      <td>True</td>\n      <td>True</td>\n    </tr>\n  </tbody>\n</table>\n</div>"
     },
     "metadata": {},
     "execution_count": 2
    }
   ],
   "source": [
    "df = pd.read_csv('job_positions.csv')\n",
    "df.head()"
   ]
  },
  {
   "cell_type": "code",
   "execution_count": 3,
   "metadata": {},
   "outputs": [
    {
     "output_type": "stream",
     "name": "stdout",
     "text": [
      "<class 'pandas.core.frame.DataFrame'>\nRangeIndex: 880 entries, 0 to 879\nData columns (total 9 columns):\n #   Column          Non-Null Count  Dtype \n---  ------          --------------  ----- \n 0   Position        880 non-null    object\n 1   Location        880 non-null    object\n 2   Company Name    880 non-null    object\n 3   Num Applicants  880 non-null    object\n 4   Sector          880 non-null    object\n 5   Num Employees   880 non-null    object\n 6   Position Type   880 non-null    object\n 7   Remote          880 non-null    bool  \n 8   Easy Apply      880 non-null    bool  \ndtypes: bool(2), object(7)\nmemory usage: 50.0+ KB\n"
     ]
    }
   ],
   "source": [
    "df.info()"
   ]
  },
  {
   "source": [
    "## Fix Location"
   ],
   "cell_type": "markdown",
   "metadata": {}
  },
  {
   "cell_type": "code",
   "execution_count": 4,
   "metadata": {},
   "outputs": [],
   "source": [
    "df['Location'].value_counts()\n",
    "\n",
    "def short_location(location):\n",
    "    if 'lisbon' in location.lower() or 'lisboa' in location.lower():\n",
    "        return 'Lisboa'\n",
    "    elif location.lower() == 'portugal':\n",
    "        return 'NA'\n",
    "    elif 'greater' in location.lower():\n",
    "        return location.split(' ')[1]\n",
    "    elif 'metropolitan' in location.lower():\n",
    "        return location.split(' ')[0]\n",
    "    else:\n",
    "        return location.split(',')[0]\n",
    "\n",
    "df['Location'] = df['Location'].apply(short_location)"
   ]
  },
  {
   "cell_type": "code",
   "execution_count": 5,
   "metadata": {},
   "outputs": [
    {
     "output_type": "execute_result",
     "data": {
      "text/plain": [
       "Lisboa                 533\n",
       "Porto                  168\n",
       "Aveiro                  39\n",
       "Braga                   31\n",
       "Castelo Branco          24\n",
       "Coimbra                 22\n",
       "NA                      15\n",
       "Vila Nova de Gaia        9\n",
       "Leiria                   9\n",
       "Guimaraes                7\n",
       "Matosinhos               7\n",
       "Viseu                    5\n",
       "Gondomar                 4\n",
       "Faro                     2\n",
       "Funchal                  2\n",
       "Ovar                     1\n",
       "Guimarães                1\n",
       "São João da Madeira      1\n",
       "Name: Location, dtype: int64"
      ]
     },
     "metadata": {},
     "execution_count": 5
    }
   ],
   "source": [
    "df['Location'].value_counts()"
   ]
  },
  {
   "source": [
    "## Fix Number of Applicants"
   ],
   "cell_type": "markdown",
   "metadata": {}
  },
  {
   "cell_type": "code",
   "execution_count": 6,
   "metadata": {},
   "outputs": [],
   "source": [
    "df['Num Applicants'].value_counts()\n",
    "df['Num Applicants'] = df['Num Applicants'].apply(lambda x: x.replace('\\n','').strip().replace('None','0').split(' ')[0]).astype('int64')"
   ]
  },
  {
   "cell_type": "code",
   "execution_count": 7,
   "metadata": {},
   "outputs": [
    {
     "output_type": "execute_result",
     "data": {
      "text/plain": [
       "0     490\n",
       "1     108\n",
       "2      64\n",
       "6      32\n",
       "3      30\n",
       "4      29\n",
       "7      22\n",
       "5      16\n",
       "9      14\n",
       "10     12\n",
       "8      11\n",
       "18      7\n",
       "11      7\n",
       "16      6\n",
       "12      6\n",
       "23      5\n",
       "13      4\n",
       "15      4\n",
       "19      3\n",
       "20      3\n",
       "22      3\n",
       "24      3\n",
       "21      1\n",
       "Name: Num Applicants, dtype: int64"
      ]
     },
     "metadata": {},
     "execution_count": 7
    }
   ],
   "source": [
    "df['Num Applicants'].value_counts()"
   ]
  },
  {
   "source": [
    "## Fix Number of Employees"
   ],
   "cell_type": "markdown",
   "metadata": {}
  },
  {
   "cell_type": "code",
   "execution_count": 8,
   "metadata": {},
   "outputs": [
    {
     "output_type": "execute_result",
     "data": {
      "text/plain": [
       "1,001-5,000 employees     205\n",
       "51-200 employees          189\n",
       "201-500 employees         141\n",
       "None                      137\n",
       "501-1,000 employees        85\n",
       "10,001+ employees          47\n",
       "5,001-10,000 employees     43\n",
       "11-50 employees            29\n",
       "1-10 employees              4\n",
       "Name: Num Employees, dtype: int64"
      ]
     },
     "metadata": {},
     "execution_count": 8
    }
   ],
   "source": [
    "df['Num Employees'].value_counts()"
   ]
  },
  {
   "cell_type": "code",
   "execution_count": 9,
   "metadata": {},
   "outputs": [
    {
     "output_type": "execute_result",
     "data": {
      "text/plain": [
       "1,001-5,000     205\n",
       "51-200          189\n",
       "201-500         141\n",
       "0               137\n",
       "501-1,000        85\n",
       "10,001+          47\n",
       "5,001-10,000     43\n",
       "11-50            29\n",
       "1-10              4\n",
       "Name: Num Employees, dtype: int64"
      ]
     },
     "metadata": {},
     "execution_count": 9
    }
   ],
   "source": [
    "#df['Num Applicants'] = df['Num Applicants'].apply(lambda x: x.replace('\\n','').strip().replace('None','0').split(' ')[0]).astype('int64')\n",
    "df['Num Employees'] = df['Num Employees'].astype(str).apply(lambda x: x.replace(' employees','').replace('None','0').strip())\n",
    "df['Num Employees'].value_counts()"
   ]
  },
  {
   "source": [
    "## Fix Position Type"
   ],
   "cell_type": "markdown",
   "metadata": {}
  },
  {
   "cell_type": "code",
   "execution_count": 10,
   "metadata": {},
   "outputs": [
    {
     "output_type": "execute_result",
     "data": {
      "text/plain": [
       "Full-time · Entry level         415\n",
       "Full-time · Associate           182\n",
       "Full-time · Mid-Senior level    103\n",
       "Contract · Mid-Senior level      80\n",
       "None                             44\n",
       "Full-time                        42\n",
       "Contract                          8\n",
       "Contract · Associate              3\n",
       "Part-time · Associate             1\n",
       "Part-time                         1\n",
       "Part-time · Entry level           1\n",
       "Name: Position Type, dtype: int64"
      ]
     },
     "metadata": {},
     "execution_count": 10
    }
   ],
   "source": [
    "df['Position Type'].value_counts()"
   ]
  },
  {
   "cell_type": "code",
   "execution_count": 11,
   "metadata": {},
   "outputs": [
    {
     "output_type": "execute_result",
     "data": {
      "text/plain": [
       "Full-time | Entry level         415\n",
       "Full-time | Associate           182\n",
       "Full-time | Mid-Senior level    103\n",
       "Contract | Mid-Senior level      80\n",
       "NA                               44\n",
       "Full-time                        42\n",
       "Contract                          8\n",
       "Contract | Associate              3\n",
       "Part-time | Associate             1\n",
       "Part-time | Entry level           1\n",
       "Part-time                         1\n",
       "Name: Position Type, dtype: int64"
      ]
     },
     "metadata": {},
     "execution_count": 11
    }
   ],
   "source": [
    "df['Position Type'] = df['Position Type'].apply(lambda x: x.replace('·','|').replace('None','NA').strip())\n",
    "df['Position Type'].value_counts()"
   ]
  },
  {
   "source": [
    "## Fix Top 40 Position Titles"
   ],
   "cell_type": "markdown",
   "metadata": {}
  },
  {
   "cell_type": "code",
   "execution_count": 12,
   "metadata": {},
   "outputs": [
    {
     "output_type": "execute_result",
     "data": {
      "text/plain": [
       "Junior Developer                                            25\n",
       "Front-end Developer – Full-time, Remote                     22\n",
       "Java Developer – Full-time, Remote                          18\n",
       "Go Developer – Full-time, Remote                            17\n",
       "Java Developer                                              15\n",
       "                                                            ..\n",
       "Cloud Developer - Lisboa                                     1\n",
       "Consultor / Programador de Software PHC Manufactor (M/F)     1\n",
       "Data Analyst/Python Developer (M/F)                          1\n",
       "Full Stack Java Developer (M/F)                              1\n",
       "Developer Java (m/f)                                         1\n",
       "Name: Position, Length: 355, dtype: int64"
      ]
     },
     "metadata": {},
     "execution_count": 12
    }
   ],
   "source": [
    "df['Position'].value_counts()"
   ]
  },
  {
   "cell_type": "code",
   "execution_count": 16,
   "metadata": {},
   "outputs": [
    {
     "output_type": "execute_result",
     "data": {
      "text/plain": [
       "Java Developer                                           33\n",
       "Backend Developer                                        29\n",
       "Angular Developer                                        27\n",
       "Junior Developer                                         25\n",
       "Frontend developer – full                                22\n",
       "Outsystems Developer                                     21\n",
       "Java Developer – Full                                    18\n",
       "PHP Developer                                            18\n",
       "Go Developer – Full                                      17\n",
       "Fullstack Developer                                      16\n",
       "Frontend Developer                                       16\n",
       ".Net Developer                                           16\n",
       "Python Developer                                         15\n",
       "Cloud Developer                                          14\n",
       "C++ Developer                                            13\n",
       "RPA Developer                                            13\n",
       "Full Stack Developer                                     12\n",
       "Junior Java Developer                                    12\n",
       "Software Developer                                        9\n",
       "Analyst Developer                                         9\n",
       "AWS Developer – Full                                      9\n",
       "ETL Developer                                             9\n",
       "Frontend developer                                        8\n",
       "Scala Developer                                           8\n",
       "Web Developer                                             8\n",
       "Java/Angular Developer                                    7\n",
       "FullStack Developer                                       7\n",
       "Full                                                      7\n",
       "SQL Developer                                             7\n",
       ".Net Core Developer                                       7\n",
       "Shopify Developer – Full                                  6\n",
       "BI Analyst                                                6\n",
       "OutSystems Developer                                      6\n",
       "Data Engineer                                             6\n",
       "Java Backend Developer                                    5\n",
       ".NET Developer                                            5\n",
       "Integration Developer                                     5\n",
       "C++ Software Developer                                    5\n",
       "Sharepoint Developer                                      5\n",
       "FrontEnd Developer                                        5\n",
       ".Net                                                      5\n",
       "Salesforce Developer                                      5\n",
       "Business Intelligence Developer                           4\n",
       "Web Developer Senior                                      4\n",
       "PL/SQL Developer                                          4\n",
       "Appian Developer                                          4\n",
       "SAP Consultant                                            4\n",
       "React Developer                                           4\n",
       "SAP ABAP Developer                                        4\n",
       "GO Junior Developer                                       4\n",
       "Android Developer                                         4\n",
       "Developer Java Web                                        4\n",
       "Golang Developer                                          4\n",
       "Javascript Developer                                      4\n",
       "Functional Analyst                                        4\n",
       "Backend developer                                         4\n",
       "Back End Developer                                        4\n",
       "Data Analyst                                              4\n",
       "Cobol Developer                                           4\n",
       "Data Science                                              3\n",
       "Junior FullStack Developer                                3\n",
       "Cloud Support                                             3\n",
       "C/C++ Developer                                           3\n",
       "Cobol Developer Pleno                                     3\n",
       "SMART DATA SCIENTIST                                      3\n",
       "Java Senior Developer                                     3\n",
       "IOS Developer                                             3\n",
       "Java/ PLSQL Developer                                     3\n",
       "Front End Engineer                                        3\n",
       ".NET/C# Developer                                         3\n",
       "Low Code Developer                                        3\n",
       "SMART C/C++ DEVELOPER                                     3\n",
       "SMART APPLICATION SUPPORT                                 3\n",
       "Frontend Team Leader / Developer                          3\n",
       "Analyst Senior Analysis                                   3\n",
       "Consultor DevOps                                          3\n",
       "SMART FUNCTIONAL ANALYST                                  3\n",
       "Junior Full Stack Developer                               3\n",
       ".Net Fullstack Developer                                  3\n",
       "Data Science Developer                                    3\n",
       "Mobile Developer                                          3\n",
       "QA Automation Developer                                   3\n",
       "SMART DATABASE DEVELOPER                                  3\n",
       "iOS Developer                                             3\n",
       "Recém                                                     3\n",
       "Junior Business Intelligence Analyst                      3\n",
       ".NET Core Backend Developer                               3\n",
       "Developer Cobol Junior                                    3\n",
       "BackEnd Web Developer                                     2\n",
       "TIBCO Developer                                           2\n",
       "Microsoft Support Engineer                                2\n",
       "Developer Associate                                       2\n",
       "IT Cloud & Security/Network                               2\n",
       "Python                                                    2\n",
       "React.Js Developer                                        2\n",
       "SAP Developer                                             2\n",
       "Java Developer with English                               2\n",
       "Consultor de Software PHC                                 2\n",
       "PHP/Magento Junior Developer                              2\n",
       "Developer .NET Junior                                     2\n",
       "Oracle PL/SQL Developer                                   2\n",
       "Programador PHC                                           2\n",
       "Business Analyst                                          2\n",
       "Junior Salesforce Developer                               2\n",
       "Mid Software Developer                                    2\n",
       "Xamarin Developer                                         2\n",
       "Developer ReactJS                                         2\n",
       "Analyst Developer Bi                                      2\n",
       "Developer                                                 2\n",
       "Java Developer / Tech Lead with English                   2\n",
       "JavaScript Developer                                      2\n",
       "GO Developer                                              2\n",
       "React Developer – Full                                    2\n",
       "Code Developer                                            2\n",
       "Senior BI Developer                                       2\n",
       "AS/400 & RPG Analyst/Developer                            2\n",
       "Developer Operations                                      2\n",
       "Consultor PHP                                             2\n",
       "Process Automation Developer                              2\n",
       "ETL Developer @ AMS                                       2\n",
       "IOS Developer Pleno                                       2\n",
       "Applications Support Specialist                           2\n",
       "C# .Net Developer                                         2\n",
       "Java FullStack Developer                                  2\n",
       "Fullstack Java Developer                                  2\n",
       "SMART FULL                                                2\n",
       "SMART DBA SQL SERVER                                      2\n",
       "Flutter Developer – Full                                  2\n",
       "SAS Developer                                             2\n",
       "Senior Developer                                          2\n",
       "Oferta de trabalho PHP/Magento Sénior Developer           2\n",
       "Junior Backend Developer                                  2\n",
       "Application Support Engineer                              2\n",
       "IT Talent Acquisition                                     2\n",
       "Consultor BI Oracle                                       2\n",
       "Blockchain Developer – Full                               2\n",
       "Frontend developer junior                                 2\n",
       "Oferta de trabalho QA Automation Developer                2\n",
       "SMART JAVA DEVELOPER                                      2\n",
       "PHP/Magento Sénior Developer                              2\n",
       "Swift Developer – Full                                    2\n",
       "Consultor Business Analyst                                2\n",
       "OutSystems Senior Developer                               2\n",
       "Senior FullStack Developer                                2\n",
       "Java Developer Contract                                   2\n",
       "SMART FRONTEND DEVELOPER                                  2\n",
       "PHP/Magento Developer                                     2\n",
       "Java Developer/DevOps                                     2\n",
       "Report Developer                                          2\n",
       "Go Developer                                              2\n",
       "ReactJs Developer                                         2\n",
       "SMART BI CONSULTANT                                       2\n",
       "AngularJS Developer                                       2\n",
       "BI Oracle Developer                                       2\n",
       "Plugins developer                                         2\n",
       "Frontend Web Developer                                    2\n",
       "Java Developer – Portugal                                 2\n",
       "Junior C# Developer                                       2\n",
       "Junior Fullstack Developer                                2\n",
       "Mobile Device Management Specialist                       1\n",
       "Power BI Developer                                        1\n",
       "Senior Developer OutSystems                               1\n",
       "Data Analyst/Python Developer                             1\n",
       "Software Engineer                                         1\n",
       "Network Consultant                                        1\n",
       "Senior .NET Developer                                     1\n",
       "Business Intelligence Microsoft Consultant                1\n",
       "BackEnd Developer                                         1\n",
       "Part                                                      1\n",
       "Senior Software Developer                                 1\n",
       "Software Developer – DevOps                               1\n",
       "RPA Analyst Developer                                     1\n",
       "NodeJS, Angular 2+                                        1\n",
       "trailblazing   Frontend developer                         1\n",
       "Business Intelligence Developer,Tech, PM&I HQ Hub, PT     1\n",
       "JAVA Developer                                            1\n",
       "Business Intelligence                                     1\n",
       "COBOL Developer                                           1\n",
       "Senior Intelligent Automation Developer                   1\n",
       "Node.js Developer                                         1\n",
       "Agile Coach                                               1\n",
       "Drupal Full                                               1\n",
       "JUNIOR DEVELOPER                                          1\n",
       "C#.NET Fullstack Developer                                1\n",
       "Angular Frontend Developer                                1\n",
       "Backend Software Developer                                1\n",
       "Programador Frontend Developer                            1\n",
       "Servicenow Developer                                      1\n",
       "Full Stack Java Developer                                 1\n",
       "Developer SQL                                             1\n",
       "Software Developer – Junior                               1\n",
       "DBA                                                       1\n",
       "Angular Senior Developer                                  1\n",
       "Consultor / Programador de Software PHC Manufactor        1\n",
       "AS400 Developer                                           1\n",
       "C++ Senior Developer                                      1\n",
       "Software Developer Recent Graduate                        1\n",
       "Senior Backend Developer                                  1\n",
       "Software Developer Go                                     1\n",
       "Perl Developer                                            1\n",
       "Vue.js Developer – Full                                   1\n",
       "BI Developer                                              1\n",
       "Consultor Java Backend                                    1\n",
       "Audio Developer                                           1\n",
       "BI Microsoft Developer                                    1\n",
       "2x Full Stack Developer                                   1\n",
       "Senior Java Developer                                     1\n",
       "Business Intelligence Consultant                          1\n",
       "Javascript Senior Developer                               1\n",
       "Data Architect                                            1\n",
       "Python FullStack Developer                                1\n",
       "Analista/Developer VBA                                    1\n",
       "Quality Data Analyst                                      1\n",
       "Consultor/Programador de Software PHC                     1\n",
       "Senior Backend Software Developer                         1\n",
       "Senior Database Engineer                                  1\n",
       "Java Fullstack Developer                                  1\n",
       "Administrador de Sistemas                                 1\n",
       "Corporate BI Developer                                    1\n",
       "Revolutionary Java Developer                              1\n",
       "Data Team Lead                                            1\n",
       "Angular Junior Developer                                  1\n",
       "ETL DEVELOPER                                             1\n",
       "Platform Engineer                                         1\n",
       "Head of Data Analysis                                     1\n",
       "Java Developer Fullstack                                  1\n",
       "Senior Business Intelligence Developer                    1\n",
       ".NET Fullstack developer                                  1\n",
       "Kubernetes Developer – Full                               1\n",
       "Senior React Developer                                    1\n",
       "JIRA Developer                                            1\n",
       "PHC Developer/Consultor                                   1\n",
       "Power Platform Developer                                  1\n",
       "Back end Developer                                        1\n",
       "Javascript Frontend Developer                             1\n",
       "Automation Tester                                         1\n",
       "Analista Funcional Pleno                                  1\n",
       "Software Developer – Manufacturing Digital                1\n",
       "Consultor Desenvolvimento                                 1\n",
       "Developer Java                                            1\n",
       "Azure Cloud Engineer                                      1\n",
       "Python Cloud Platform Developer                           1\n",
       "Consultor Sénior PL/SQL                                   1\n",
       "Developer AS400                                           1\n",
       "Agile Developer                                           1\n",
       "Vue.js Developer                                          1\n",
       "Name: Position, dtype: int64"
      ]
     },
     "metadata": {},
     "execution_count": 16
    }
   ],
   "source": [
    "pd.set_option('display.max_rows', None)\n",
    "\n",
    "def clean_title(position):\n",
    "    if 'back-end' in position.lower():\n",
    "        return position.lower().replace('back-end','Backend').split('-')[0].split('(')[0].strip()\n",
    "    elif 'front-end' in position.lower():\n",
    "        return position.lower().replace('front-end','Frontend').split('-')[0].split('(')[0].strip()\n",
    "    elif  '- full' in position.lower():\n",
    "        return position.split('- ')[0].strip()\n",
    "    elif  '|' in position.lower():\n",
    "        return position.split('|')[0].strip()\n",
    "    elif  '(' in position.lower():\n",
    "        return position.split('(')[0].strip()\n",
    "    elif ':' in  position.lower():\n",
    "        return position.split(':')[1].split('-')[0].strip()\n",
    "    elif '-' in  position.lower():\n",
    "        return position.split('-')[0].strip()\n",
    "    else:\n",
    "        return position\n",
    "\n",
    "df['Position'].apply(clean_title).value_counts()"
   ]
  },
  {
   "cell_type": "code",
   "execution_count": null,
   "metadata": {},
   "outputs": [],
   "source": []
  }
 ]
}